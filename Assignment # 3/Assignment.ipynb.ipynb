{
 "cells": [
  {
   "cell_type": "code",
   "execution_count": 18,
   "id": "4c39b611",
   "metadata": {},
   "outputs": [
    {
     "name": "stdout",
     "output_type": "stream",
     "text": [
      "Twinkle,twinkle,little star \n",
      "        How I wonder what you are ! \n",
      "              Up above the world so high, \n",
      "              Like a diamond in the Sky.\n",
      "Twinkle,twinkle,little star, \n",
      "        How I wonder what you are\n"
     ]
    }
   ],
   "source": [
    "print(\"Twinkle,twinkle,little star \\n        How I wonder what you are ! \\n              Up above the world so high, \\n              Like a diamond in the Sky.\\nTwinkle,twinkle,little star, \\n        How I wonder what you are\")"
   ]
  },
  {
   "cell_type": "code",
   "execution_count": 19,
   "id": "596c4384",
   "metadata": {},
   "outputs": [
    {
     "name": "stdout",
     "output_type": "stream",
     "text": [
      "pyhton version\n",
      "3.9.7 (default, Sep 16 2021, 16:59:28) [MSC v.1916 64 bit (AMD64)]\n",
      "version info.\n",
      "sys.version_info(major=3, minor=9, micro=7, releaselevel='final', serial=0)\n"
     ]
    }
   ],
   "source": [
    "import sys\n",
    "print(\"pyhton version\")\n",
    "print(sys.version)\n",
    "print(\"version info.\")\n",
    "print(sys.version_info)\n"
   ]
  },
  {
   "cell_type": "code",
   "execution_count": 20,
   "id": "47ce9d08",
   "metadata": {},
   "outputs": [
    {
     "name": "stdout",
     "output_type": "stream",
     "text": [
      "Current date and time : \n",
      "2021-12-30 10:37:47\n"
     ]
    }
   ],
   "source": [
    "import datetime\n",
    "now = datetime.datetime.now()\n",
    "print (\"Current date and time : \")\n",
    "print (now.strftime(\"%Y-%m-%d %H:%M:%S\"))"
   ]
  },
  {
   "cell_type": "code",
   "execution_count": 21,
   "id": "e8acde68",
   "metadata": {},
   "outputs": [
    {
     "name": "stdout",
     "output_type": "stream",
     "text": [
      "enter radius9.8\n",
      "301.7185584507638\n"
     ]
    }
   ],
   "source": [
    "r = float(input(\"enter radius\"));\n",
    "area = 3.141592653589793 * r**2;\n",
    "print(area);"
   ]
  },
  {
   "cell_type": "code",
   "execution_count": 22,
   "id": "976e5990",
   "metadata": {},
   "outputs": [
    {
     "name": "stdout",
     "output_type": "stream",
     "text": [
      "Enter First name:Haseeb\n",
      "Enter Last Name:Ali\n",
      "Ali Haseeb\n"
     ]
    }
   ],
   "source": [
    "x = input(\"Enter First name:\")\n",
    "y = input(\"Enter Last Name:\")\n",
    "z = y + \" \" + x;\n",
    "print(z);"
   ]
  },
  {
   "cell_type": "code",
   "execution_count": 23,
   "id": "90446aab",
   "metadata": {},
   "outputs": [
    {
     "name": "stdout",
     "output_type": "stream",
     "text": [
      "Enter date of birth27-11-2004\n",
      "Enter age16\n",
      "27-11-200416\n"
     ]
    }
   ],
   "source": [
    "x = input(\"Enter date of birth\");\n",
    "y = input(\"Enter age\");\n",
    "z = x + y\n",
    "print(z)"
   ]
  },
  {
   "cell_type": "code",
   "execution_count": null,
   "id": "b11aa6b4",
   "metadata": {},
   "outputs": [],
   "source": []
  }
 ],
 "metadata": {
  "kernelspec": {
   "display_name": "Python 3 (ipykernel)",
   "language": "python",
   "name": "python3"
  },
  "language_info": {
   "codemirror_mode": {
    "name": "ipython",
    "version": 3
   },
   "file_extension": ".py",
   "mimetype": "text/x-python",
   "name": "python",
   "nbconvert_exporter": "python",
   "pygments_lexer": "ipython3",
   "version": "3.9.7"
  }
 },
 "nbformat": 4,
 "nbformat_minor": 5
}
